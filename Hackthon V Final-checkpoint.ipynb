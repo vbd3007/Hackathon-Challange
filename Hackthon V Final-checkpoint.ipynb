{
 "cells": [
  {
   "cell_type": "code",
   "execution_count": 4,
   "id": "cbd750f1",
   "metadata": {},
   "outputs": [],
   "source": [
    "import pandas as pd"
   ]
  },
  {
   "cell_type": "code",
   "execution_count": 6,
   "id": "4c93df71",
   "metadata": {},
   "outputs": [],
   "source": [
    "df = pd.read_csv('uber data')"
   ]
  },
  {
   "cell_type": "code",
   "execution_count": 7,
   "id": "ec9a7b85",
   "metadata": {},
   "outputs": [
    {
     "data": {
      "text/html": [
       "<div>\n",
       "<style scoped>\n",
       "    .dataframe tbody tr th:only-of-type {\n",
       "        vertical-align: middle;\n",
       "    }\n",
       "\n",
       "    .dataframe tbody tr th {\n",
       "        vertical-align: top;\n",
       "    }\n",
       "\n",
       "    .dataframe thead th {\n",
       "        text-align: right;\n",
       "    }\n",
       "</style>\n",
       "<table border=\"1\" class=\"dataframe\">\n",
       "  <thead>\n",
       "    <tr style=\"text-align: right;\">\n",
       "      <th></th>\n",
       "      <th>ride_id</th>\n",
       "      <th>fare_amount</th>\n",
       "      <th>pickup_datetime</th>\n",
       "      <th>pickup_longitude</th>\n",
       "      <th>pickup_latitude</th>\n",
       "      <th>dropoff_longitude</th>\n",
       "      <th>dropoff_latitude</th>\n",
       "      <th>passenger_count</th>\n",
       "    </tr>\n",
       "  </thead>\n",
       "  <tbody>\n",
       "    <tr>\n",
       "      <th>0</th>\n",
       "      <td>24238194</td>\n",
       "      <td>7.5</td>\n",
       "      <td>2015-05-07 19:52:06 UTC</td>\n",
       "      <td>-73.999817</td>\n",
       "      <td>40.738354</td>\n",
       "      <td>-73.999512</td>\n",
       "      <td>40.723217</td>\n",
       "      <td>1</td>\n",
       "    </tr>\n",
       "    <tr>\n",
       "      <th>1</th>\n",
       "      <td>27835199</td>\n",
       "      <td>7.7</td>\n",
       "      <td>2009-07-17 20:04:56 UTC</td>\n",
       "      <td>-73.994355</td>\n",
       "      <td>40.728225</td>\n",
       "      <td>-73.994710</td>\n",
       "      <td>40.750325</td>\n",
       "      <td>1</td>\n",
       "    </tr>\n",
       "    <tr>\n",
       "      <th>2</th>\n",
       "      <td>44984355</td>\n",
       "      <td>12.9</td>\n",
       "      <td>2009-08-24 21:45:00 UTC</td>\n",
       "      <td>-74.005043</td>\n",
       "      <td>40.740770</td>\n",
       "      <td>-73.962565</td>\n",
       "      <td>40.772647</td>\n",
       "      <td>1</td>\n",
       "    </tr>\n",
       "    <tr>\n",
       "      <th>3</th>\n",
       "      <td>25894730</td>\n",
       "      <td>5.3</td>\n",
       "      <td>2009-06-26 08:22:21 UTC</td>\n",
       "      <td>-73.976124</td>\n",
       "      <td>40.790844</td>\n",
       "      <td>-73.965316</td>\n",
       "      <td>40.803349</td>\n",
       "      <td>3</td>\n",
       "    </tr>\n",
       "    <tr>\n",
       "      <th>4</th>\n",
       "      <td>17610152</td>\n",
       "      <td>16.0</td>\n",
       "      <td>2014-08-28 17:47:00 UTC</td>\n",
       "      <td>-73.925023</td>\n",
       "      <td>40.744085</td>\n",
       "      <td>-73.973082</td>\n",
       "      <td>40.761247</td>\n",
       "      <td>5</td>\n",
       "    </tr>\n",
       "    <tr>\n",
       "      <th>...</th>\n",
       "      <td>...</td>\n",
       "      <td>...</td>\n",
       "      <td>...</td>\n",
       "      <td>...</td>\n",
       "      <td>...</td>\n",
       "      <td>...</td>\n",
       "      <td>...</td>\n",
       "      <td>...</td>\n",
       "    </tr>\n",
       "    <tr>\n",
       "      <th>199995</th>\n",
       "      <td>42598914</td>\n",
       "      <td>3.0</td>\n",
       "      <td>2012-10-28 10:49:00 UTC</td>\n",
       "      <td>-73.987042</td>\n",
       "      <td>40.739367</td>\n",
       "      <td>-73.986525</td>\n",
       "      <td>40.740297</td>\n",
       "      <td>1</td>\n",
       "    </tr>\n",
       "    <tr>\n",
       "      <th>199996</th>\n",
       "      <td>16382965</td>\n",
       "      <td>7.5</td>\n",
       "      <td>2014-03-14 01:09:00 UTC</td>\n",
       "      <td>-73.984722</td>\n",
       "      <td>40.736837</td>\n",
       "      <td>-74.006672</td>\n",
       "      <td>40.739620</td>\n",
       "      <td>1</td>\n",
       "    </tr>\n",
       "    <tr>\n",
       "      <th>199997</th>\n",
       "      <td>27804658</td>\n",
       "      <td>30.9</td>\n",
       "      <td>2009-06-29 00:42:00 UTC</td>\n",
       "      <td>-73.986017</td>\n",
       "      <td>40.756487</td>\n",
       "      <td>-73.858957</td>\n",
       "      <td>40.692588</td>\n",
       "      <td>2</td>\n",
       "    </tr>\n",
       "    <tr>\n",
       "      <th>199998</th>\n",
       "      <td>20259894</td>\n",
       "      <td>14.5</td>\n",
       "      <td>2015-05-20 14:56:25 UTC</td>\n",
       "      <td>-73.997124</td>\n",
       "      <td>40.725452</td>\n",
       "      <td>-73.983215</td>\n",
       "      <td>40.695416</td>\n",
       "      <td>1</td>\n",
       "    </tr>\n",
       "    <tr>\n",
       "      <th>199999</th>\n",
       "      <td>11951496</td>\n",
       "      <td>14.1</td>\n",
       "      <td>2010-05-15 04:08:00 UTC</td>\n",
       "      <td>-73.984395</td>\n",
       "      <td>40.720077</td>\n",
       "      <td>-73.985508</td>\n",
       "      <td>40.768793</td>\n",
       "      <td>1</td>\n",
       "    </tr>\n",
       "  </tbody>\n",
       "</table>\n",
       "<p>200000 rows × 8 columns</p>\n",
       "</div>"
      ],
      "text/plain": [
       "         ride_id  fare_amount          pickup_datetime  pickup_longitude  \\\n",
       "0       24238194          7.5  2015-05-07 19:52:06 UTC        -73.999817   \n",
       "1       27835199          7.7  2009-07-17 20:04:56 UTC        -73.994355   \n",
       "2       44984355         12.9  2009-08-24 21:45:00 UTC        -74.005043   \n",
       "3       25894730          5.3  2009-06-26 08:22:21 UTC        -73.976124   \n",
       "4       17610152         16.0  2014-08-28 17:47:00 UTC        -73.925023   \n",
       "...          ...          ...                      ...               ...   \n",
       "199995  42598914          3.0  2012-10-28 10:49:00 UTC        -73.987042   \n",
       "199996  16382965          7.5  2014-03-14 01:09:00 UTC        -73.984722   \n",
       "199997  27804658         30.9  2009-06-29 00:42:00 UTC        -73.986017   \n",
       "199998  20259894         14.5  2015-05-20 14:56:25 UTC        -73.997124   \n",
       "199999  11951496         14.1  2010-05-15 04:08:00 UTC        -73.984395   \n",
       "\n",
       "        pickup_latitude  dropoff_longitude  dropoff_latitude  passenger_count  \n",
       "0             40.738354         -73.999512         40.723217                1  \n",
       "1             40.728225         -73.994710         40.750325                1  \n",
       "2             40.740770         -73.962565         40.772647                1  \n",
       "3             40.790844         -73.965316         40.803349                3  \n",
       "4             40.744085         -73.973082         40.761247                5  \n",
       "...                 ...                ...               ...              ...  \n",
       "199995        40.739367         -73.986525         40.740297                1  \n",
       "199996        40.736837         -74.006672         40.739620                1  \n",
       "199997        40.756487         -73.858957         40.692588                2  \n",
       "199998        40.725452         -73.983215         40.695416                1  \n",
       "199999        40.720077         -73.985508         40.768793                1  \n",
       "\n",
       "[200000 rows x 8 columns]"
      ]
     },
     "execution_count": 7,
     "metadata": {},
     "output_type": "execute_result"
    }
   ],
   "source": [
    "df"
   ]
  },
  {
   "cell_type": "code",
   "execution_count": 8,
   "id": "47fbab93",
   "metadata": {},
   "outputs": [],
   "source": [
    "integer_columns = df.select_dtypes(include=['int64'])\n"
   ]
  },
  {
   "cell_type": "code",
   "execution_count": 9,
   "id": "e6254d1d",
   "metadata": {},
   "outputs": [
    {
     "data": {
      "text/html": [
       "<div>\n",
       "<style scoped>\n",
       "    .dataframe tbody tr th:only-of-type {\n",
       "        vertical-align: middle;\n",
       "    }\n",
       "\n",
       "    .dataframe tbody tr th {\n",
       "        vertical-align: top;\n",
       "    }\n",
       "\n",
       "    .dataframe thead th {\n",
       "        text-align: right;\n",
       "    }\n",
       "</style>\n",
       "<table border=\"1\" class=\"dataframe\">\n",
       "  <thead>\n",
       "    <tr style=\"text-align: right;\">\n",
       "      <th></th>\n",
       "      <th>ride_id</th>\n",
       "      <th>passenger_count</th>\n",
       "    </tr>\n",
       "  </thead>\n",
       "  <tbody>\n",
       "    <tr>\n",
       "      <th>0</th>\n",
       "      <td>24238194</td>\n",
       "      <td>1</td>\n",
       "    </tr>\n",
       "    <tr>\n",
       "      <th>1</th>\n",
       "      <td>27835199</td>\n",
       "      <td>1</td>\n",
       "    </tr>\n",
       "    <tr>\n",
       "      <th>2</th>\n",
       "      <td>44984355</td>\n",
       "      <td>1</td>\n",
       "    </tr>\n",
       "    <tr>\n",
       "      <th>3</th>\n",
       "      <td>25894730</td>\n",
       "      <td>3</td>\n",
       "    </tr>\n",
       "    <tr>\n",
       "      <th>4</th>\n",
       "      <td>17610152</td>\n",
       "      <td>5</td>\n",
       "    </tr>\n",
       "    <tr>\n",
       "      <th>...</th>\n",
       "      <td>...</td>\n",
       "      <td>...</td>\n",
       "    </tr>\n",
       "    <tr>\n",
       "      <th>199995</th>\n",
       "      <td>42598914</td>\n",
       "      <td>1</td>\n",
       "    </tr>\n",
       "    <tr>\n",
       "      <th>199996</th>\n",
       "      <td>16382965</td>\n",
       "      <td>1</td>\n",
       "    </tr>\n",
       "    <tr>\n",
       "      <th>199997</th>\n",
       "      <td>27804658</td>\n",
       "      <td>2</td>\n",
       "    </tr>\n",
       "    <tr>\n",
       "      <th>199998</th>\n",
       "      <td>20259894</td>\n",
       "      <td>1</td>\n",
       "    </tr>\n",
       "    <tr>\n",
       "      <th>199999</th>\n",
       "      <td>11951496</td>\n",
       "      <td>1</td>\n",
       "    </tr>\n",
       "  </tbody>\n",
       "</table>\n",
       "<p>200000 rows × 2 columns</p>\n",
       "</div>"
      ],
      "text/plain": [
       "         ride_id  passenger_count\n",
       "0       24238194                1\n",
       "1       27835199                1\n",
       "2       44984355                1\n",
       "3       25894730                3\n",
       "4       17610152                5\n",
       "...          ...              ...\n",
       "199995  42598914                1\n",
       "199996  16382965                1\n",
       "199997  27804658                2\n",
       "199998  20259894                1\n",
       "199999  11951496                1\n",
       "\n",
       "[200000 rows x 2 columns]"
      ]
     },
     "execution_count": 9,
     "metadata": {},
     "output_type": "execute_result"
    }
   ],
   "source": [
    "integer_columns"
   ]
  },
  {
   "cell_type": "code",
   "execution_count": null,
   "id": "ad2c7da4",
   "metadata": {},
   "outputs": [],
   "source": [
    "Missing values"
   ]
  },
  {
   "cell_type": "code",
   "execution_count": 11,
   "id": "d33778a5",
   "metadata": {},
   "outputs": [],
   "source": [
    "missing_values_count = df['dropoff_longitude'].isna().sum()"
   ]
  },
  {
   "cell_type": "code",
   "execution_count": 12,
   "id": "8786d01c",
   "metadata": {},
   "outputs": [
    {
     "data": {
      "text/plain": [
       "1"
      ]
     },
     "execution_count": 12,
     "metadata": {},
     "output_type": "execute_result"
    }
   ],
   "source": [
    "missing_values_count"
   ]
  },
  {
   "cell_type": "code",
   "execution_count": 13,
   "id": "9751e09c",
   "metadata": {},
   "outputs": [],
   "source": [
    "pickup_datetime_dtype = df['pickup_datetime'].dtypes\n"
   ]
  },
  {
   "cell_type": "code",
   "execution_count": 14,
   "id": "01e8a161",
   "metadata": {},
   "outputs": [
    {
     "data": {
      "text/plain": [
       "dtype('O')"
      ]
     },
     "execution_count": 14,
     "metadata": {},
     "output_type": "execute_result"
    }
   ],
   "source": [
    "pickup_datetime_dtype"
   ]
  },
  {
   "cell_type": "code",
   "execution_count": 55,
   "id": "e1277596",
   "metadata": {},
   "outputs": [
    {
     "name": "stdout",
     "output_type": "stream",
     "text": [
      "Average Fare Amount: 11.359955250000002\n"
     ]
    }
   ],
   "source": [
    "# Remove null values from the 'fare_amount' column-\n",
    "data_cleaned = df.dropna(subset=['fare_amount'])\n",
    "# Calculate the average fare amount\n",
    "average_fare = data_cleaned['fare_amount'].mean()\n",
    "print(\"Average Fare Amount:\", average_fare)"
   ]
  },
  {
   "cell_type": "code",
   "execution_count": 21,
   "id": "8d9ecc47",
   "metadata": {},
   "outputs": [
    {
     "name": "stdout",
     "output_type": "stream",
     "text": [
      "Median Haversine Distance: 2.1209923961833708 kilometers\n"
     ]
    }
   ],
   "source": [
    "import numpy as np\n",
    "\n",
    "def haversine(lat1, lon1, lat2, lon2):\n",
    "    # Convert latitude and longitude from degrees to radians\n",
    "    lat1, lon1, lat2, lon2 = map(np.radians, [lat1, lon1, lat2, lon2])\n",
    "\n",
    "    # Haversine formula\n",
    "    dlat = lat2 - lat1\n",
    "    dlon = lon2 - lon1\n",
    "    a = np.sin(dlat / 2) ** 2 + np.cos(lat1) * np.cos(lat2) * np.sin(dlon / 2) ** 2\n",
    "    c = 2 * np.arctan2(np.sqrt(a), np.sqrt(1 - a))\n",
    "    r = 6371  \n",
    "    # Radius of Earth in kilometers\n",
    "\n",
    "    return r * c\n",
    "\n",
    "# Calculate Haversine distance for each row\n",
    "df['haversine_distance'] = haversine(df['pickup_latitude'], df['pickup_longitude'], df['dropoff_latitude'], df['dropoff_longitude'])\n",
    "\n",
    "# Calculate the median Haversine distance\n",
    "median_haversine_distance = df['haversine_distance'].median()\n",
    "\n",
    "print(\"Median Haversine Distance:\", median_haversine_distance, \"kilometers\")\n"
   ]
  },
  {
   "cell_type": "code",
   "execution_count": 22,
   "id": "afa3ca3e",
   "metadata": {},
   "outputs": [
    {
     "name": "stdout",
     "output_type": "stream",
     "text": [
      "Maximum Haversine Distance: 16409.239135313168 kilometers\n"
     ]
    }
   ],
   "source": [
    "# Find the maximum Haversine distance-\n",
    "max_haversine_distance = df['haversine_distance'].max()\n",
    "\n",
    "print(\"Maximum Haversine Distance:\", max_haversine_distance, \"kilometers\")"
   ]
  },
  {
   "cell_type": "code",
   "execution_count": 23,
   "id": "10e20916",
   "metadata": {},
   "outputs": [
    {
     "name": "stdout",
     "output_type": "stream",
     "text": [
      "Number of rides with 0.0 Haversine distance: 5632\n"
     ]
    }
   ],
   "source": [
    "# Count the number of rides with a Haversine distance of 0.0-\n",
    "rides_with_zero_distance = (df['haversine_distance'] == 0.0).sum()\n",
    "\n",
    "print(\"Number of rides with 0.0 Haversine distance:\", rides_with_zero_distance)"
   ]
  },
  {
   "cell_type": "code",
   "execution_count": 24,
   "id": "7aab473a",
   "metadata": {},
   "outputs": [
    {
     "name": "stdout",
     "output_type": "stream",
     "text": [
      "Mean 'fare_amount' for rides with 0.0 Haversine distance: 11.585317826704546\n"
     ]
    }
   ],
   "source": [
    "# Filter the dataset for rides with 0.0 Haversine distance-\n",
    "rides_with_zero_distance = df[df['haversine_distance'] == 0.0]\n",
    "\n",
    "# Calculate the mean 'fare_amount' for these rides\n",
    "mean_fare_amount_for_zero_distance = rides_with_zero_distance['fare_amount'].mean()\n",
    "\n",
    "print(\"Mean 'fare_amount' for rides with 0.0 Haversine distance:\", mean_fare_amount_for_zero_distance)"
   ]
  },
  {
   "cell_type": "code",
   "execution_count": 25,
   "id": "16f57a3c",
   "metadata": {},
   "outputs": [
    {
     "name": "stdout",
     "output_type": "stream",
     "text": [
      "Maximum 'fare_amount' for a ride: 499.0\n"
     ]
    }
   ],
   "source": [
    "# Find the maximum 'fare_amount'-\n",
    "max_fare_amount = df['fare_amount'].max()\n",
    "\n",
    "print(\"Maximum 'fare_amount' for a ride:\", max_fare_amount)"
   ]
  },
  {
   "cell_type": "code",
   "execution_count": 26,
   "id": "b8eaad52",
   "metadata": {},
   "outputs": [
    {
     "name": "stdout",
     "output_type": "stream",
     "text": [
      "Haversine distance for the costliest ride: 0.0007899213191009994 kilometers\n"
     ]
    }
   ],
   "source": [
    "# Find the row with the highest 'fare_amount'-\n",
    "costliest_ride = df[df['fare_amount'] == df['fare_amount'].max()]\n",
    "\n",
    "# Calculate the Haversine distance for the costliest ride\n",
    "costliest_ride_haversine_distance = haversine(costliest_ride['pickup_latitude'].values[0], costliest_ride['pickup_longitude'].values[0], costliest_ride['dropoff_latitude'].values[0], costliest_ride['dropoff_longitude'].values[0])\n",
    "\n",
    "print(\"Haversine distance for the costliest ride:\", costliest_ride_haversine_distance, \"kilometers\")"
   ]
  },
  {
   "cell_type": "code",
   "execution_count": null,
   "id": "724c4914",
   "metadata": {},
   "outputs": [],
   "source": [
    "df['pickup_year'] = pd.to_datetime(df['pickup_datetime'], errors = 'coerce')\n",
    "# Count the number of rides recorded in the year 2014\n",
    "rides_in_2014 = (df['pickup_year'] == 2014).sum()\n",
    "\n",
    "print(\"Number of rides recorded in the year 2014:\", rides_in_2014)"
   ]
  },
  {
   "cell_type": "code",
   "execution_count": null,
   "id": "e86dbca3",
   "metadata": {},
   "outputs": [],
   "source": [
    "# Extract the year and quarter from the 'pickup_datetime' column\n",
    "df['pickup_year'] = df['pickup_datetime'].dt\n",
    "df['pickup_quarter'] = df['pickup_datetime'].dt\n",
    "\n",
    "# Count the number of rides recorded in the first quarter of 2014 (where year is 2014 and quarter is 1)\n",
    "rides_in_first_quarter_2014 = ((df['pickup_year'] == 2014) & (df['pickup_quarter'] == 1)).sum()\n",
    "\n",
    "print(\"Number of rides recorded in the first quarter of 2014:\", rides_in_first_quarter_2014)"
   ]
  },
  {
   "cell_type": "code",
   "execution_count": null,
   "id": "8f134f52",
   "metadata": {},
   "outputs": [],
   "source": [
    "# Extract day of the week and month\n",
    "df['day_of_week'] = data['pickup_datetime'].dt.day_name()\n",
    "df['month'] = df['pickup_datetime'].dt.month\n",
    "\n",
    "# records for September 2010\n",
    "september_2010_data = df[(df['month'] == 9) & (df['pickup_datetime'].dt.year == 2010)]\n",
    "\n",
    "# Count rides for each day of the week\n",
    "rides_per_day = september_2010_data['day_of_week'].value_counts()\n",
    "\n",
    "# Find the day with the maximum number of rides\n",
    "day_with_max_rides = rides_per_day.idxmax()\n",
    "\n",
    "print(\"Day of the week in September 2010 with the maximum rides:\", day_with_max_rides)\n",
    "This code will extract the day of the week for each ride in September 2010 and then identify the day with the maximum number of recorded rides.\n",
    "\n",
    "\n",
    "\n",
    "\n",
    "\n"
   ]
  },
  {
   "cell_type": "code",
   "execution_count": 54,
   "id": "b11e999b",
   "metadata": {},
   "outputs": [
    {
     "name": "stdout",
     "output_type": "stream",
     "text": [
      "Adjusted R-squared for Linear Regression: 9.8904336252148e-05\n",
      "Adjusted R-squared for Random Forest Regression: 0.0003716071659032316\n"
     ]
    }
   ],
   "source": [
    "from sklearn.model_selection import train_test_split\n",
    "from sklearn.linear_model import LinearRegression\n",
    "from sklearn.ensemble import RandomForestRegressor\n",
    "from sklearn.metrics import r2_score\n",
    "import pandas as pd\n",
    "\n",
    "# Split the data into training and testing sets (70-30 split)-\n",
    "X = df[['passenger_count']]\n",
    "y = df['fare_amount']\n",
    "X_train, X_test, y_train, y_test = train_test_split(X, y, test_size=0.3, random_state=42)\n",
    "\n",
    "# Train Linear Regression model-\n",
    "linear_reg = LinearRegression()\n",
    "linear_reg.fit(X_train, y_train)\n",
    "\n",
    "# Train Random Forest Regression model-\n",
    "random_forest_reg = RandomForestRegressor()\n",
    "random_forest_reg.fit(X_train, y_train)\n",
    "\n",
    "# Make predictions-\n",
    "linear_reg_predictions = linear_reg.predict(X_test)\n",
    "random_forest_reg_predictions = random_forest_reg.predict(X_test)\n",
    "\n",
    "# Calculate adjusted R-squared values-\n",
    "def adjusted_r2_score(r2, n, k):\n",
    "    return 1 - ((1 - r2) * (n - 1) / (n - k - 1))\n",
    "\n",
    "linear_reg_r2 = r2_score(y_test, linear_reg_predictions)\n",
    "random_forest_reg_r2 = r2_score(y_test, random_forest_reg_predictions)\n",
    "\n",
    "# Assuming k is the number of features-\n",
    "k = X_test.shape[1]\n",
    "n = X_test.shape[0]\n",
    "\n",
    "adjusted_linear_reg_r2 = adjusted_r2_score(linear_reg_r2, n, k)\n",
    "adjusted_random_forest_reg_r2 = adjusted_r2_score(random_forest_reg_r2, n, k)\n",
    "\n",
    "print(\"Adjusted R-squared for Linear Regression:\", adjusted_linear_reg_r2)\n",
    "print(\"Adjusted R-squared for Random Forest Regression:\", adjusted_random_forest_reg_r2)\n"
   ]
  }
 ],
 "metadata": {
  "kernelspec": {
   "display_name": "Python 3 (ipykernel)",
   "language": "python",
   "name": "python3"
  },
  "language_info": {
   "codemirror_mode": {
    "name": "ipython",
    "version": 3
   },
   "file_extension": ".py",
   "mimetype": "text/x-python",
   "name": "python",
   "nbconvert_exporter": "python",
   "pygments_lexer": "ipython3",
   "version": "3.10.9"
  }
 },
 "nbformat": 4,
 "nbformat_minor": 5
}
